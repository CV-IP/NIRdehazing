{
 "cells": [
  {
   "cell_type": "code",
   "execution_count": null,
   "metadata": {
    "scrolled": true
   },
   "outputs": [],
   "source": [
    "#Useful imports\n",
    "import numpy as np\n",
    "import matplotlib.pyplot as plt\n",
    "%matplotlib inline\n",
    "%reload_ext autoreload\n",
    "%autoreload 2\n",
    "import cv2\n",
    "from refinement import get_vegetation_masks\n",
    "from plots import plot_picture\n",
    "from refinement import python2matlab\n",
    "from refinement import ycc2rgb, y_python2matlab\n",
    "from pixel_fusion import pixel_fusion\n",
    "from multiresolution_decomposition import multiresolution_synthesis"
   ]
  },
  {
   "cell_type": "code",
   "execution_count": null,
   "metadata": {
    "scrolled": false
   },
   "outputs": [],
   "source": [
    "def dehaze_with_mask(rgb_detail, nir_detail, rgb_base_image, matlab_img_ycrcb, v_mask=None, filename=''):\n",
    "   \n",
    "    fused = pixel_fusion((rgb_detail, nir_detail),v_mask, False)\n",
    "    image_dehazed = multiresolution_synthesis((rgb_base_image, fused))\n",
    "    Y_fused = np.round(image_dehazed * 255)\n",
    "    Y_fused = y_python2matlab(Y_fused)\n",
    "    img_rgb_dehazed = ycc2rgb(Y_fused,matlab_img_ycrcb)\n",
    "    plt.imshow(img_rgb_dehazed)\n",
    "    plt.show()\n",
    "    if filename != '':\n",
    "        img_bgr_dehazed = cv2.cvtColor(img_rgb_dehazed, cv2.COLOR_RGB2BGR)\n",
    "        cv2.imwrite(filename, img_bgr_dehazed)\n",
    "    return img_rgb_dehazed\n",
    "\n",
    "registration = False\n",
    "filenames = [['branchview','.tif'],\n",
    "             ['knoll','.tif']]            \n",
    "\n",
    "\n",
    "for arg in filenames:\n",
    "    filename, filetype = arg\n",
    "    rgb_path = 'input/' + filename + filetype\n",
    "    nir_path = 'input/' + filename + '_nir' + filetype\n",
    "\n",
    "    ##   read images\n",
    "    img_gray = cv2.imread(rgb_path, 0)\n",
    "    img_bgr = cv2.imread(rgb_path)\n",
    "    img_rgb = cv2.cvtColor(img_bgr, cv2.COLOR_BGR2RGB)\n",
    "    img_lab = cv2.cvtColor(img_rgb, cv2.COLOR_RGB2LAB)\n",
    "    img_ycrcb = cv2.cvtColor(img_rgb, cv2.COLOR_RGB2YCrCb)\n",
    "    img_lum = img_lab[..., 0]\n",
    "    img_nir_old = cv2.imread(nir_path)[..., 0]\n",
    "    \n",
    "    if (registration):\n",
    "        ##  image registration\n",
    "        from registration import *\n",
    "        img_nir = registration(img_gray, img_nir_old, plot=True)\n",
    "        cv2.imwrite('output/' + filename + '_registered.png', img_nir)\n",
    "    else:\n",
    "        img_nir = img_nir_old\n",
    "        \n",
    "    rgb_base = []\n",
    "    nir_base = []\n",
    "    rgb_detail = []\n",
    "    nir_detail = []\n",
    "    n_base = 7\n",
    "    n_detail = 6 \n",
    "    for counter in range(n_base):\n",
    "        nir_base.append(np.load('output/{}_nir_base{}.npy'.format(filename,counter)))\n",
    "        rgb_base.append(np.load('output/{}_vis_base{}.npy'.format(filename,counter)))\n",
    "    for counter in range(n_detail):\n",
    "        nir_detail.append(np.load('output/{}_nir_detail{}.npy'.format(filename,counter)))\n",
    "        rgb_detail.append(np.load('output/{}_vis_detail{}.npy'.format(filename,counter)))\n",
    "\n",
    "        red = (img_rgb[:,:,0]/255.0).astype(np.float32)\n",
    "    nir = (img_nir/255.0).astype(np.float32)\n",
    "    v_mask, v_prob = get_vegetation_masks(red, nir)\n",
    "    np.save('dehazed/'+filename+'_vmask',v_mask)\n",
    "    np.save('dehazed/'+filename+'_vprob',v_prob)\n",
    "    matlab_img_ycrcb = python2matlab(img_ycrcb)\n",
    "\n",
    "    img_rgb_dehazed_binary = dehaze_with_mask(rgb_detail, nir_detail, rgb_base[-1], matlab_img_ycrcb, \n",
    "                                              v_mask=v_mask, filename='dehazed/'+filename+'_dehazed_binary.png')\n",
    "    img_rgb_dehazed_prob = dehaze_with_mask(rgb_detail, nir_detail, rgb_base[-1], matlab_img_ycrcb, \n",
    "                                            v_mask=v_prob, filename='dehazed/'+filename+'_dehazed_prob.png')\n",
    "    img_rgb_dehazed = dehaze_with_mask(rgb_detail, nir_detail, rgb_base[-1], matlab_img_ycrcb, \n",
    "                                       v_mask=None, filename='dehazed/'+filename+'_dehazed.png')\n"
   ]
  },
  {
   "cell_type": "markdown",
   "metadata": {},
   "source": [
    "## plot tiles"
   ]
  },
  {
   "cell_type": "code",
   "execution_count": null,
   "metadata": {},
   "outputs": [],
   "source": [
    "def tile_pictures(picture_array, location):\n",
    "    xmin, xmax, ymin, ymax = location\n",
    "    first = True\n",
    "    for pic in picture_array:\n",
    "        if first:\n",
    "            new_picture = pic[ymin:ymax,xmin:xmax]\n",
    "            first = False\n",
    "        else:\n",
    "            new_picture = np.concatenate((new_picture, pic[ymin:ymax,xmin:xmax]), axis=1)\n",
    "    return new_picture\n",
    "\n",
    "for arg in filenames:\n",
    "    filename, filetype = arg\n",
    "    rgb_path = 'input/' + filename + filetype\n",
    "    print('file',filename)\n",
    "    ##   read images\n",
    "    print('reading raw images')\n",
    "    img_bgr = cv2.imread(rgb_path)\n",
    "    img_rgb = cv2.cvtColor(img_bgr, cv2.COLOR_BGR2RGB)\n",
    "    \n",
    "    height, width, __ = img_rgb.shape\n",
    "    tile_size = 1000\n",
    "    location = (width-tile_size,width,height-tile_size,height)\n",
    "\n",
    "    v_mask_path='dehazed/'+filename+'_vmask.npy'\n",
    "    v_prob_path='dehazed/'+filename+'_vprob.npy'\n",
    "    dehazed_binary_path='dehazed/'+filename+'_dehazed_binary.png'\n",
    "    dehazed_prob_path='dehazed/'+filename+'_dehazed_prob.png'\n",
    "    dehazed_path='dehazed/'+filename+'_dehazed.png'\n",
    "    \n",
    "    print('reading masks')\n",
    "    v_mask = np.load(v_mask_path)\n",
    "    v_prob = np.load(v_prob_path)\n",
    "    \n",
    "    print('reading dehazed')\n",
    "    img_rgb_dehazed_binary = cv2.imread(dehazed_binary_path)\n",
    "    img_rgb_dehazed_prob = cv2.imread(dehazed_prob_path)\n",
    "    img_rgb_dehazed = cv2.imread(dehazed_path)\n",
    "    \n",
    "    img_rgb_dehazed_binary = cv2.cvtColor(img_rgb_dehazed_binary, cv2.COLOR_BGR2RGB)\n",
    "    img_rgb_dehazed_prob = cv2.cvtColor(img_rgb_dehazed_prob, cv2.COLOR_BGR2RGB)\n",
    "    img_rgb_dehazed = cv2.cvtColor(img_rgb_dehazed, cv2.COLOR_BGR2RGB)\n",
    "\n",
    "    plot_picture(v_mask,'vmask',colorbar='in', filename='dehazed/'+filename+'_vmask.pdf')\n",
    "    plot_picture(v_prob,'vprob',colorbar='in', filename='dehazed/'+filename+'_vprob.pdf')\n",
    "    \n",
    "    masks = tile_pictures([v_mask, v_prob], location)\n",
    "    diff = img_rgb - img_rgb_dehazed_binary\n",
    "    results_binary = tile_pictures([img_rgb, img_rgb_dehazed, img_rgb_dehazed_binary, diff], location)\n",
    "    diff = img_rgb - img_rgb_dehazed_prob\n",
    "    results_prob = tile_pictures([img_rgb, img_rgb_dehazed, img_rgb_dehazed_prob, diff], location)\n",
    "    plot_picture(masks,colorbar='out',filename='output/'+filename+'_masks.pdf')\n",
    "    plot_picture(results_binary,colorbar=False,filename='output/'+filename+'_results_binary.pdf')\n",
    "    plot_picture(results_prob,colorbar=False,filename='output/'+filename+'_results_prob.pdf')"
   ]
  },
  {
   "cell_type": "code",
   "execution_count": null,
   "metadata": {
    "scrolled": false
   },
   "outputs": [],
   "source": [
    "    "
   ]
  },
  {
   "cell_type": "code",
   "execution_count": null,
   "metadata": {
    "scrolled": true
   },
   "outputs": [],
   "source": []
  },
  {
   "cell_type": "code",
   "execution_count": null,
   "metadata": {},
   "outputs": [],
   "source": []
  },
  {
   "cell_type": "code",
   "execution_count": null,
   "metadata": {},
   "outputs": [],
   "source": []
  }
 ],
 "metadata": {
  "anaconda-cloud": {},
  "kernelspec": {
   "display_name": "Python 3",
   "language": "python",
   "name": "python3"
  },
  "language_info": {
   "codemirror_mode": {
    "name": "ipython",
    "version": 3
   },
   "file_extension": ".py",
   "mimetype": "text/x-python",
   "name": "python",
   "nbconvert_exporter": "python",
   "pygments_lexer": "ipython3",
   "version": "3.5.2"
  }
 },
 "nbformat": 4,
 "nbformat_minor": 1
}
